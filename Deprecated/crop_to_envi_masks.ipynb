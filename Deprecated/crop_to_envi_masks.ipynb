{
 "cells": [
  {
   "cell_type": "code",
   "execution_count": 1,
   "metadata": {},
   "outputs": [],
   "source": [
    "%config IPCompleter.greedy=True"
   ]
  },
  {
   "cell_type": "code",
   "execution_count": 3,
   "metadata": {},
   "outputs": [],
   "source": [
    "import os\n",
    "import rasterio as rio\n",
    "from rasterio.windows import Window\n",
    "import numpy as np"
   ]
  },
  {
   "cell_type": "code",
   "execution_count": 5,
   "metadata": {},
   "outputs": [
    {
     "data": {
      "text/plain": [
       "(['endimage_maskint8.tif', 'startimage_maskint8.tif'], 'endimage_maskint8.tif')"
      ]
     },
     "execution_count": 5,
     "metadata": {},
     "output_type": "execute_result"
    }
   ],
   "source": [
    "maskpath = 'C:\\\\Users\\\\karan\\\\Documents\\\\CCRS_2A_COOP\\\\PSRFM_Testing\\\\PSRFM_run_manually\\\\raw_geotiffs\\\\masks\\\\'\n",
    "geotiff_filenames = os.listdir(maskpath)\n",
    "filename_to_crop = geotiff_filenames[0]\n",
    "geotiff_filenames, filename_to_crop"
   ]
  },
  {
   "cell_type": "code",
   "execution_count": 6,
   "metadata": {},
   "outputs": [
    {
     "data": {
      "text/plain": [
       "({'driver': 'GTiff',\n",
       "  'dtype': 'uint8',\n",
       "  'nodata': None,\n",
       "  'width': 3084,\n",
       "  'height': 3288,\n",
       "  'count': 1,\n",
       "  'crs': CRS.from_epsg(32653),\n",
       "  'transform': Affine(30.0, 0.0, 381195.0,\n",
       "         0.0, -30.0, -2503545.0)},\n",
       " BoundingBox(left=381195.0, bottom=-2602185.0, right=473715.0, top=-2503545.0))"
      ]
     },
     "execution_count": 6,
     "metadata": {},
     "output_type": "execute_result"
    }
   ],
   "source": [
    "startimage = rio.open(maskpath + filename_to_crop, 'r+')\n",
    "\n",
    "startimage.meta, startimage.bounds"
   ]
  },
  {
   "cell_type": "code",
   "execution_count": 7,
   "metadata": {},
   "outputs": [],
   "source": [
    "#trying to convert to int8\n",
    "# npstartimage = startimage.read()\n",
    "# npstartimage = npstartimage.astype(np.int8)\n",
    "# startimage.meta.update({'dtype': 'int8'})\n",
    "# startimage.meta"
   ]
  },
  {
   "cell_type": "code",
   "execution_count": 9,
   "metadata": {},
   "outputs": [
    {
     "data": {
      "text/plain": [
       "1000.0"
      ]
     },
     "execution_count": 9,
     "metadata": {},
     "output_type": "execute_result"
    }
   ],
   "source": [
    "final_xy = 1000 - (1000 % 16)\n",
    "col_offset = (startimage.width - final_xy)/2\n",
    "row_offset = (startimage.height - final_xy)/2\n",
    "final_xy"
   ]
  },
  {
   "cell_type": "code",
   "execution_count": 29,
   "metadata": {},
   "outputs": [
    {
     "data": {
      "text/plain": [
       "{'driver': 'ENVI',\n",
       " 'dtype': 'uint8',\n",
       " 'nodata': None,\n",
       " 'width': 1000,\n",
       " 'height': 1000,\n",
       " 'count': 1,\n",
       " 'crs': CRS.from_epsg(32653),\n",
       " 'transform': Affine(30.0, 0.0, 412455.0,\n",
       "        0.0, -30.0, -2537865.0)}"
      ]
     },
     "execution_count": 29,
     "metadata": {},
     "output_type": "execute_result"
    }
   ],
   "source": [
    "subset_window = Window(col_offset, row_offset, final_xy, final_xy)\n",
    "\n",
    "kwargs = startimage.meta.copy()\n",
    "kwargs.update({\n",
    "    'height': subset_window.height,\n",
    "    'width': subset_window.width,\n",
    "    'transform': rio.windows.transform(subset_window, startimage.transform),\n",
    "    'driver': 'ENVI'\n",
    "})\n",
    "kwargs"
   ]
  },
  {
   "cell_type": "code",
   "execution_count": 30,
   "metadata": {},
   "outputs": [
    {
     "data": {
      "text/plain": [
       "{'driver': 'ENVI',\n",
       " 'dtype': 'uint8',\n",
       " 'nodata': None,\n",
       " 'width': 1000,\n",
       " 'height': 1000,\n",
       " 'count': 1,\n",
       " 'crs': CRS.from_epsg(32653),\n",
       " 'transform': Affine(30.0, 0.0, 412455.0,\n",
       "        0.0, -30.0, -2537865.0)}"
      ]
     },
     "execution_count": 30,
     "metadata": {},
     "output_type": "execute_result"
    }
   ],
   "source": [
    "# Z = np.zeros((1000, 1000), 'uint8')\n",
    "dst = rio.open(fr\"C:\\Users\\karan\\Documents\\CCRS_2A_COOP\\PSRFM_Testing\\PSRFM_run_manually\\clipped_envis\\{filename_to_crop[:-4]}.dat\", 'w', **kwargs)\n",
    "dst.write(Z, 1)\n",
    "# dst.write(startimage.read(window=subset_window))\n",
    "dst.meta"
   ]
  },
  {
   "cell_type": "code",
   "execution_count": 31,
   "metadata": {},
   "outputs": [],
   "source": [
    "dst.close()"
   ]
  },
  {
   "cell_type": "code",
   "execution_count": null,
   "metadata": {},
   "outputs": [],
   "source": []
  }
 ],
 "metadata": {
  "kernelspec": {
   "display_name": "Python 3",
   "language": "python",
   "name": "python3"
  },
  "language_info": {
   "codemirror_mode": {
    "name": "ipython",
    "version": 3
   },
   "file_extension": ".py",
   "mimetype": "text/x-python",
   "name": "python",
   "nbconvert_exporter": "python",
   "pygments_lexer": "ipython3",
   "version": "3.7.7"
  }
 },
 "nbformat": 4,
 "nbformat_minor": 4
}
